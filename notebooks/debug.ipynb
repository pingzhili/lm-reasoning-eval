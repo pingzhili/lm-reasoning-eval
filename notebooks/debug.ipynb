{
 "cells": [
  {
   "cell_type": "code",
   "id": "initial_id",
   "metadata": {
    "collapsed": true,
    "ExecuteTime": {
     "end_time": "2025-08-01T20:46:47.844252Z",
     "start_time": "2025-08-01T20:46:47.841709Z"
    }
   },
   "source": [
    "import json\n",
    "import os\n",
    "import re\n",
    "from itertools import islice\n",
    "from typing import Optional, Union"
   ],
   "outputs": [],
   "execution_count": 1
  },
  {
   "metadata": {
    "ExecuteTime": {
     "end_time": "2025-08-01T20:47:21.033291Z",
     "start_time": "2025-08-01T20:47:21.029141Z"
    }
   },
   "cell_type": "code",
   "source": [
    "def parse_args(args: str):\n",
    "    generation_parameters_dict = None\n",
    "    hf_overrides_dict = None\n",
    "\n",
    "    # Use a more specific pattern to extract key={...} pairs\n",
    "    dict_pattern = re.compile(r\"(\\w+)=\\{([^{}]*(?:\\{[^{}]*\\}[^{}]*)*)\\}\")\n",
    "    dict_matches = dict_pattern.findall(args)\n",
    "\n",
    "    for key, value in dict_matches:\n",
    "        key = key.strip()\n",
    "        # Add braces back to value since they were captured separately\n",
    "        value = \"{\" + value + \"}\"\n",
    "\n",
    "        if key == \"generation_parameters\":\n",
    "            gen_params = re.sub(r\"(\\w+):\", r'\"\\1\":', value)\n",
    "            generation_parameters_dict = json.loads(gen_params)\n",
    "        elif key == \"hf_overrides\":\n",
    "            # Handle hf_overrides similarly\n",
    "            hf_params = re.sub(r\"(\\w+):\", r'\"\\1\":', value)\n",
    "            hf_overrides_dict = json.loads(hf_params)\n",
    "\n",
    "    # Remove all dict parameters from args before processing simple parameters\n",
    "    args = re.sub(r\"\\w+=\\{[^{}]*(?:\\{[^{}]*\\}[^{}]*)*\\},?\", \"\", args).strip(\",\")\n",
    "\n",
    "    # Parse remaining simple key=value pairs\n",
    "    model_config = {}\n",
    "    if args:  # Only process if there are remaining args\n",
    "        for pair in args.split(\",\"):\n",
    "            pair = pair.strip()\n",
    "            if \"=\" in pair:\n",
    "                k, v = pair.split(\"=\", 1)\n",
    "                model_config[k] = v\n",
    "            elif pair:  # Boolean flags without values\n",
    "                model_config[pair] = True\n",
    "\n",
    "    # Add the parsed dict parameters back\n",
    "    if generation_parameters_dict is not None:\n",
    "        model_config[\"generation_parameters\"] = generation_parameters_dict\n",
    "    if hf_overrides_dict is not None:\n",
    "        model_config[\"hf_overrides\"] = hf_overrides_dict\n",
    "\n",
    "    return model_config"
   ],
   "id": "64e9bcd7d0310ed0",
   "outputs": [],
   "execution_count": 3
  },
  {
   "metadata": {
    "ExecuteTime": {
     "end_time": "2025-08-01T20:48:45.106481Z",
     "start_time": "2025-08-01T20:48:45.103074Z"
    }
   },
   "cell_type": "code",
   "source": "parse_args(\"model_name=gpt2,use_cache,generation_parameters={temperature:0.7},use_chat_template=true,hf_overrides={num_experts_per_tok:6}\")",
   "id": "273b5a000ac976d2",
   "outputs": [
    {
     "data": {
      "text/plain": [
       "{'model_name': 'gpt2',\n",
       " 'use_cache': True,\n",
       " 'use_chat_template': 'true',\n",
       " 'generation_parameters': {'temperature': 0.7},\n",
       " 'hf_overrides': {'num_experts_per_tok': 6}}"
      ]
     },
     "execution_count": 7,
     "metadata": {},
     "output_type": "execute_result"
    }
   ],
   "execution_count": 7
  },
  {
   "metadata": {
    "ExecuteTime": {
     "end_time": "2025-08-01T20:48:13.893568Z",
     "start_time": "2025-08-01T20:48:13.891100Z"
    }
   },
   "cell_type": "code",
   "source": "parse_args(\"model_name=gpt2,use_cache,generation_parameters={temperature:0.7},use_chat_template=true,enable_thinking=true\")",
   "id": "1d1c2f7bc68a4490",
   "outputs": [
    {
     "data": {
      "text/plain": [
       "{'model_name': 'gpt2',\n",
       " 'use_cache': True,\n",
       " 'use_chat_template': 'true',\n",
       " 'enable_thinking': 'true',\n",
       " 'generation_parameters': {'temperature': 0.7}}"
      ]
     },
     "execution_count": 6,
     "metadata": {},
     "output_type": "execute_result"
    }
   ],
   "execution_count": 6
  },
  {
   "metadata": {},
   "cell_type": "code",
   "outputs": [],
   "execution_count": null,
   "source": "",
   "id": "a993e8435d2841d8"
  }
 ],
 "metadata": {
  "kernelspec": {
   "display_name": "Python 3",
   "language": "python",
   "name": "python3"
  },
  "language_info": {
   "codemirror_mode": {
    "name": "ipython",
    "version": 2
   },
   "file_extension": ".py",
   "mimetype": "text/x-python",
   "name": "python",
   "nbconvert_exporter": "python",
   "pygments_lexer": "ipython2",
   "version": "2.7.6"
  }
 },
 "nbformat": 4,
 "nbformat_minor": 5
}
