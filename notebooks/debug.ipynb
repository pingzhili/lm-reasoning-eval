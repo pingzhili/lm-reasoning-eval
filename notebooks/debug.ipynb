{
 "cells": [
  {
   "cell_type": "code",
   "id": "initial_id",
   "metadata": {
    "collapsed": true,
    "ExecuteTime": {
     "end_time": "2025-08-01T20:46:47.844252Z",
     "start_time": "2025-08-01T20:46:47.841709Z"
    }
   },
   "source": [
    "import json\n",
    "import os\n",
    "import re\n",
    "from itertools import islice\n",
    "from typing import Optional, Union"
   ],
   "outputs": [],
   "execution_count": 1
  },
  {
   "metadata": {
    "ExecuteTime": {
     "end_time": "2025-08-01T20:47:21.033291Z",
     "start_time": "2025-08-01T20:47:21.029141Z"
    }
   },
   "cell_type": "code",
   "source": [
    "def parse_args(args: str):\n",
    "    generation_parameters_dict = None\n",
    "    hf_overrides_dict = None\n",
    "\n",
    "    # Use a more specific pattern to extract key={...} pairs\n",
    "    dict_pattern = re.compile(r\"(\\w+)=\\{([^{}]*(?:\\{[^{}]*\\}[^{}]*)*)\\}\")\n",
    "    dict_matches = dict_pattern.findall(args)\n",
    "\n",
    "    for key, value in dict_matches:\n",
    "        key = key.strip()\n",
    "        # Add braces back to value since they were captured separately\n",
    "        value = \"{\" + value + \"}\"\n",
    "\n",
    "        if key == \"generation_parameters\":\n",
    "            gen_params = re.sub(r\"(\\w+):\", r'\"\\1\":', value)\n",
    "            generation_parameters_dict = json.loads(gen_params)\n",
    "        elif key == \"hf_overrides\":\n",
    "            # Handle hf_overrides similarly\n",
    "            hf_params = re.sub(r\"(\\w+):\", r'\"\\1\":', value)\n",
    "            hf_overrides_dict = json.loads(hf_params)\n",
    "\n",
    "    # Remove all dict parameters from args before processing simple parameters\n",
    "    args = re.sub(r\"\\w+=\\{[^{}]*(?:\\{[^{}]*\\}[^{}]*)*\\},?\", \"\", args).strip(\",\")\n",
    "\n",
    "    # Parse remaining simple key=value pairs\n",
    "    model_config = {}\n",
    "    if args:  # Only process if there are remaining args\n",
    "        for pair in args.split(\",\"):\n",
    "            pair = pair.strip()\n",
    "            if \"=\" in pair:\n",
    "                k, v = pair.split(\"=\", 1)\n",
    "                model_config[k] = v\n",
    "            elif pair:  # Boolean flags without values\n",
    "                model_config[pair] = True\n",
    "\n",
    "    # Add the parsed dict parameters back\n",
    "    if generation_parameters_dict is not None:\n",
    "        model_config[\"generation_parameters\"] = generation_parameters_dict\n",
    "    if hf_overrides_dict is not None:\n",
    "        model_config[\"hf_overrides\"] = hf_overrides_dict\n",
    "\n",
    "    return model_config"
   ],
   "id": "64e9bcd7d0310ed0",
   "outputs": [],
   "execution_count": 3
  },
  {
   "metadata": {
    "ExecuteTime": {
     "end_time": "2025-08-01T20:48:45.106481Z",
     "start_time": "2025-08-01T20:48:45.103074Z"
    }
   },
   "cell_type": "code",
   "source": "parse_args(\"model_name=gpt2,use_cache,generation_parameters={temperature:0.7},use_chat_template=true,hf_overrides={num_experts_per_tok:6}\")",
   "id": "273b5a000ac976d2",
   "outputs": [
    {
     "data": {
      "text/plain": [
       "{'model_name': 'gpt2',\n",
       " 'use_cache': True,\n",
       " 'use_chat_template': 'true',\n",
       " 'generation_parameters': {'temperature': 0.7},\n",
       " 'hf_overrides': {'num_experts_per_tok': 6}}"
      ]
     },
     "execution_count": 7,
     "metadata": {},
     "output_type": "execute_result"
    }
   ],
   "execution_count": 7
  },
  {
   "metadata": {
    "ExecuteTime": {
     "end_time": "2025-08-01T20:52:23.699949Z",
     "start_time": "2025-08-01T20:52:23.696205Z"
    }
   },
   "cell_type": "code",
   "source": "parse_args(\"model_name=$MODEL,dtype=bfloat16,max_model_length=32768,gpu_memory_utilization=0.8,generation_parameters={max_new_tokens:30000,temperature:0.6,top_p:0.95,returns_logits:false},use_chat_template=true,tensor_parallel_size=$NUM_GPUS,enable_thinking=true\")",
   "id": "1d1c2f7bc68a4490",
   "outputs": [
    {
     "data": {
      "text/plain": [
       "{'model_name': '$MODEL',\n",
       " 'dtype': 'bfloat16',\n",
       " 'max_model_length': '32768',\n",
       " 'gpu_memory_utilization': '0.8',\n",
       " 'use_chat_template': 'true',\n",
       " 'tensor_parallel_size': '$NUM_GPUS',\n",
       " 'enable_thinking': 'true',\n",
       " 'generation_parameters': {'max_new_tokens': 30000,\n",
       "  'temperature': 0.6,\n",
       "  'top_p': 0.95,\n",
       "  'returns_logits': False}}"
      ]
     },
     "execution_count": 9,
     "metadata": {},
     "output_type": "execute_result"
    }
   ],
   "execution_count": 9
  },
  {
   "metadata": {
    "ExecuteTime": {
     "end_time": "2025-08-01T20:52:52.818695Z",
     "start_time": "2025-08-01T20:52:52.814092Z"
    }
   },
   "cell_type": "code",
   "source": [
    "args = \"model_name=$MODEL,dtype=bfloat16,max_model_length=32768,gpu_memory_utilization=0.8,generation_parameters={max_new_tokens:30000,temperature:0.6,top_p:0.95,returns_logits:false},use_chat_template=true,tensor_parallel_size=$NUM_GPUS,enable_thinking=true\"\n",
    "re.sub(r\"\\w+=\\{[^{}]*(?:\\{[^{}]*\\}[^{}]*)*\\},?\", \"\", args).strip(\",\")"
   ],
   "id": "a993e8435d2841d8",
   "outputs": [
    {
     "data": {
      "text/plain": [
       "'model_name=$MODEL,dtype=bfloat16,max_model_length=32768,gpu_memory_utilization=0.8,use_chat_template=true,tensor_parallel_size=$NUM_GPUS,enable_thinking=true'"
      ]
     },
     "execution_count": 11,
     "metadata": {},
     "output_type": "execute_result"
    }
   ],
   "execution_count": 11
  },
  {
   "metadata": {},
   "cell_type": "code",
   "outputs": [],
   "execution_count": null,
   "source": "",
   "id": "f540bf3d04340f8c"
  }
 ],
 "metadata": {
  "kernelspec": {
   "display_name": "Python 3",
   "language": "python",
   "name": "python3"
  },
  "language_info": {
   "codemirror_mode": {
    "name": "ipython",
    "version": 2
   },
   "file_extension": ".py",
   "mimetype": "text/x-python",
   "name": "python",
   "nbconvert_exporter": "python",
   "pygments_lexer": "ipython2",
   "version": "2.7.6"
  }
 },
 "nbformat": 4,
 "nbformat_minor": 5
}
