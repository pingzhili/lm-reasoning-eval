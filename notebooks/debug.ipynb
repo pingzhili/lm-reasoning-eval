{
 "cells": [
  {
   "cell_type": "code",
   "id": "initial_id",
   "metadata": {
    "collapsed": true,
    "ExecuteTime": {
     "end_time": "2025-08-13T07:02:19.137986Z",
     "start_time": "2025-08-13T07:02:13.397914Z"
    }
   },
   "source": "from transformers import AutoTokenizer",
   "outputs": [
    {
     "name": "stderr",
     "output_type": "stream",
     "text": [
      "/Users/pingzhili/anaconda3/envs/ajax-gpu/lib/python3.10/site-packages/tqdm/auto.py:21: TqdmWarning: IProgress not found. Please update jupyter and ipywidgets. See https://ipywidgets.readthedocs.io/en/stable/user_install.html\n",
      "  from .autonotebook import tqdm as notebook_tqdm\n"
     ]
    }
   ],
   "execution_count": 1
  },
  {
   "metadata": {
    "ExecuteTime": {
     "end_time": "2025-08-13T07:02:21.854444Z",
     "start_time": "2025-08-13T07:02:20.273571Z"
    }
   },
   "cell_type": "code",
   "source": "tokenizer = AutoTokenizer.from_pretrained('openai/gpt-oss-120b')",
   "id": "a993e8435d2841d8",
   "outputs": [],
   "execution_count": 2
  },
  {
   "metadata": {
    "ExecuteTime": {
     "end_time": "2025-08-13T07:04:28.652593Z",
     "start_time": "2025-08-13T07:04:28.649654Z"
    }
   },
   "cell_type": "code",
   "source": [
    "messages = [\n",
    "    {\"role\": \"user\", \"content\": \"How much is 1+1=?\"},\n",
    "    {\"role\": \"assistant\", \"analysis\": \"1+1=2.\"}\n",
    "]"
   ],
   "id": "f540bf3d04340f8c",
   "outputs": [],
   "execution_count": 9
  },
  {
   "metadata": {
    "ExecuteTime": {
     "end_time": "2025-08-13T08:08:35.513711Z",
     "start_time": "2025-08-13T08:08:35.508723Z"
    }
   },
   "cell_type": "code",
   "source": [
    "messages = [\n",
    "    {\"role\": \"user\", \"content\": \"How much is 1+1=?\"},\n",
    "    {\"role\": \"assistant\", \"thinking\": \"step1; step2; step3.\", \"content\": \"[CONTENT_PLACEHOLDER]\"}\n",
    "]\n",
    "\n",
    "tokenizer.apply_chat_template(\n",
    "    messages,\n",
    "    # add_generation_prompt=True,\n",
    "    reasoning_effort=\"low\",\n",
    "    tokenize=False,\n",
    "    # continue_final_message=True\n",
    ")"
   ],
   "id": "ff749709e6d1db72",
   "outputs": [
    {
     "data": {
      "text/plain": [
       "'<|start|>system<|message|>You are ChatGPT, a large language model trained by OpenAI.\\nKnowledge cutoff: 2024-06\\nCurrent date: 2025-08-13\\n\\nReasoning: low\\n\\n# Valid channels: analysis, commentary, final. Channel must be included for every message.<|end|><|start|>user<|message|>How much is 1+1=?<|end|><|start|>assistant<|channel|>analysis<|message|>step1; step2; step3.<|end|><|start|>assistant<|channel|>final<|message|>[CONTENT_PLACEHOLDER]<|return|>'"
      ]
     },
     "execution_count": 45,
     "metadata": {},
     "output_type": "execute_result"
    }
   ],
   "execution_count": 45
  },
  {
   "metadata": {
    "ExecuteTime": {
     "end_time": "2025-08-13T07:16:33.937926Z",
     "start_time": "2025-08-13T07:16:33.934586Z"
    }
   },
   "cell_type": "code",
   "source": [
    "messages = [\n",
    "    {\"role\": \"user\", \"content\": \"How much is 1+1=?\"},\n",
    "]\n",
    "\n",
    "tokenizer.apply_chat_template(\n",
    "    messages,\n",
    "    add_generation_prompt=True,\n",
    "    reasoning_effort=\"low\",\n",
    "    tokenize=False,\n",
    ")"
   ],
   "id": "b78c0b662988180a",
   "outputs": [
    {
     "data": {
      "text/plain": [
       "'<|start|>system<|message|>You are ChatGPT, a large language model trained by OpenAI.\\nKnowledge cutoff: 2024-06\\nCurrent date: 2025-08-13\\n\\nReasoning: low\\n\\n# Valid channels: analysis, commentary, final. Channel must be included for every message.<|end|><|start|>user<|message|>How much is 1+1=?<|end|><|start|>assistant'"
      ]
     },
     "execution_count": 35,
     "metadata": {},
     "output_type": "execute_result"
    }
   ],
   "execution_count": 35
  },
  {
   "metadata": {},
   "cell_type": "code",
   "outputs": [],
   "execution_count": null,
   "source": "",
   "id": "2e3a30f0e1aee7b4"
  }
 ],
 "metadata": {
  "kernelspec": {
   "display_name": "Python 3",
   "language": "python",
   "name": "python3"
  },
  "language_info": {
   "codemirror_mode": {
    "name": "ipython",
    "version": 2
   },
   "file_extension": ".py",
   "mimetype": "text/x-python",
   "name": "python",
   "nbconvert_exporter": "python",
   "pygments_lexer": "ipython2",
   "version": "2.7.6"
  }
 },
 "nbformat": 4,
 "nbformat_minor": 5
}
