{
 "cells": [
  {
   "cell_type": "code",
   "id": "initial_id",
   "metadata": {
    "collapsed": true,
    "ExecuteTime": {
     "end_time": "2025-07-14T20:28:46.051255Z",
     "start_time": "2025-07-14T20:28:45.832332Z"
    }
   },
   "source": "import pandas as pd",
   "outputs": [],
   "execution_count": 1
  },
  {
   "metadata": {
    "ExecuteTime": {
     "end_time": "2025-07-14T20:48:38.042557Z",
     "start_time": "2025-07-14T20:48:38.027252Z"
    }
   },
   "cell_type": "code",
   "source": [
    "sjdf = pd.read_parquet(\"../data/evals/Qwen/Qwen3-32B-self-judge/details/Qwen/Qwen3-32B/2025-07-14T11-58-54.309709/details_lighteval|aime24|0_2025-07-14T11-58-54.309709.parquet\")\n",
    "tdf = pd.read_parquet(\"../data/evals/Qwen/Qwen3-32B-thinking/details/Qwen/Qwen3-32B/2025-07-14T12-14-40.446749/details_lighteval|aime24|0_2025-07-14T12-14-40.446749.parquet\")"
   ],
   "id": "8d4108ff834cbbb7",
   "outputs": [],
   "execution_count": 55
  },
  {
   "metadata": {
    "ExecuteTime": {
     "end_time": "2025-07-14T20:48:38.869013Z",
     "start_time": "2025-07-14T20:48:38.866603Z"
    }
   },
   "cell_type": "code",
   "source": "sjdf_acc = sjdf.metric.map(lambda x: x['math_pass@1:1_samples']).tolist()",
   "id": "f2a795d1337692f9",
   "outputs": [],
   "execution_count": 56
  },
  {
   "metadata": {
    "ExecuteTime": {
     "end_time": "2025-07-14T20:48:39.072011Z",
     "start_time": "2025-07-14T20:48:39.069776Z"
    }
   },
   "cell_type": "code",
   "source": "tdf_acc = tdf.metric.map(lambda x: x['math_pass@1:1_samples']).tolist()",
   "id": "71c8688ff207f45d",
   "outputs": [],
   "execution_count": 57
  },
  {
   "metadata": {
    "ExecuteTime": {
     "end_time": "2025-07-14T20:52:32.522055Z",
     "start_time": "2025-07-14T20:52:32.515466Z"
    }
   },
   "cell_type": "code",
   "source": [
    "import numpy as np\n",
    "import matplotlib.pyplot as plt\n",
    "import seaborn as sns\n",
    "from matplotlib.colors import LinearSegmentedColormap\n",
    "\n",
    "# Anthropic-inspired color palette\n",
    "ANTHROPIC_ORANGE = '#D97757'\n",
    "ANTHROPIC_LIGHT = '#FFF4F0'\n",
    "ANTHROPIC_DARK = '#1F1F1F'\n",
    "ANTHROPIC_GRAY = '#666666'\n",
    "\n",
    "def create_anthropic_colormap():\n",
    "    \"\"\"Create a custom colormap inspired by Anthropic's colors.\"\"\"\n",
    "    colors = [\n",
    "        (1.0, 0.95, 0.94),  # Very light peach (low values)\n",
    "        (1.0, 0.85, 0.80),  # Light peach\n",
    "        (0.85, 0.47, 0.34),  # Anthropic orange (high values)\n",
    "    ]\n",
    "    n_bins = 100\n",
    "    cmap_name = 'anthropic'\n",
    "    return LinearSegmentedColormap.from_list(cmap_name, colors, N=n_bins)\n",
    "\n",
    "def set_anthropic_style():\n",
    "    \"\"\"Set matplotlib style to match Anthropic's aesthetic.\"\"\"\n",
    "    plt.rcParams.update({\n",
    "        'font.family': 'sans-serif',\n",
    "        'font.sans-serif': ['Arial', 'Helvetica', 'DejaVu Sans'],\n",
    "        'font.size': 11,\n",
    "        'axes.labelsize': 12,\n",
    "        'axes.titlesize': 14,\n",
    "        'axes.titleweight': 'normal',\n",
    "        'axes.edgecolor': ANTHROPIC_GRAY,\n",
    "        'axes.linewidth': 0.8,\n",
    "        'grid.alpha': 0.3,\n",
    "        'grid.color': ANTHROPIC_GRAY,\n",
    "    })\n",
    "\n",
    "def plot_accuracy_comparison(sjdf_acc, tdf_acc, figsize=(12, 2)):\n",
    "    \"\"\"\n",
    "    Create a 2×N heatmap comparing question-wise accuracy between two methods.\n",
    "    Uses Anthropic's visual style.\n",
    "\n",
    "    Parameters:\n",
    "    -----------\n",
    "    sjdf_acc : list or array\n",
    "        Accuracy values for SJDF method\n",
    "    tdf_acc : list or array\n",
    "        Accuracy values for TDF method\n",
    "    figsize : tuple\n",
    "        Figure size (width, height)\n",
    "\n",
    "    Returns:\n",
    "    --------\n",
    "    fig, ax : matplotlib figure and axis objects\n",
    "    \"\"\"\n",
    "    # Set Anthropic style\n",
    "    set_anthropic_style()\n",
    "\n",
    "    # Convert to numpy arrays if needed\n",
    "    sjdf_acc = np.array(sjdf_acc)\n",
    "    tdf_acc = np.array(tdf_acc)\n",
    "\n",
    "    # Verify same length\n",
    "    assert len(sjdf_acc) == len(tdf_acc), \"Both accuracy lists must have the same length\"\n",
    "\n",
    "    # Create 2×N array for heatmap\n",
    "    accuracy_matrix = np.vstack([sjdf_acc, tdf_acc])\n",
    "\n",
    "    # Create figure and axis\n",
    "    fig, ax = plt.subplots(figsize=figsize, facecolor='white')\n",
    "\n",
    "    # Create custom colormap\n",
    "    anthropic_cmap = create_anthropic_colormap()\n",
    "\n",
    "    # Create heatmap\n",
    "    sns.heatmap(accuracy_matrix,\n",
    "                annot=False,\n",
    "                cmap=anthropic_cmap,\n",
    "                vmin=0, vmax=1,\n",
    "                cbar_kws={\n",
    "                    'orientation': 'vertical',\n",
    "                    'ticks': [0.25, 0.75],\n",
    "                    'pad': 0.02\n",
    "                },\n",
    "                xticklabels=[f'Q{i+1}' for i in range(len(sjdf_acc))],\n",
    "                yticklabels=['Self-Judge + Adaptive', 'Always Thinking'],\n",
    "                ax=ax,\n",
    "                linewidths=1,\n",
    "                linecolor='white',\n",
    "                square=False)\n",
    "\n",
    "    # Customize colorbar\n",
    "    cbar = ax.collections[0].colorbar\n",
    "    cbar.ax.tick_params(labelsize=10, color=ANTHROPIC_GRAY)\n",
    "    cbar.ax.yaxis.label.set_color(ANTHROPIC_DARK)\n",
    "    cbar.outline.set_edgecolor(ANTHROPIC_GRAY)\n",
    "    cbar.ax.set_yticklabels(['False', 'True'])\n",
    "\n",
    "    # set yticklabels to rotate 90'\n",
    "    ax.set_yticklabels(ax.get_yticklabels(), rotation=0)\n",
    "\n",
    "    # Set labels and title\n",
    "    ax.set_xlabel('Questions', fontsize=12, color=ANTHROPIC_DARK)\n",
    "    ax.set_ylabel('Methods', fontsize=12, color=ANTHROPIC_DARK)\n",
    "    ax.set_title(\"AIME'24\",\n",
    "                 fontsize=14, color=ANTHROPIC_DARK, pad=20)\n",
    "\n",
    "    # Style tick labels\n",
    "    ax.tick_params(colors=ANTHROPIC_DARK, which='both')\n",
    "\n",
    "    # Rotate x-axis labels if many questions\n",
    "    if len(sjdf_acc) > 15:\n",
    "        plt.xticks(rotation=45, ha='right')\n",
    "\n",
    "    # Remove top and right spines for cleaner look\n",
    "    ax.spines['top'].set_visible(False)\n",
    "    ax.spines['right'].set_visible(False)\n",
    "\n",
    "    plt.tight_layout()\n",
    "\n",
    "    return fig, ax"
   ],
   "id": "6528560252906651",
   "outputs": [],
   "execution_count": 67
  },
  {
   "metadata": {
    "ExecuteTime": {
     "end_time": "2025-07-14T20:52:33.423547Z",
     "start_time": "2025-07-14T20:52:33.312880Z"
    }
   },
   "cell_type": "code",
   "source": "plot_accuracy_comparison(sjdf_acc, tdf_acc)",
   "id": "3072bc08abae6a7e",
   "outputs": [
    {
     "data": {
      "text/plain": [
       "(<Figure size 1200x200 with 2 Axes>,\n",
       " <Axes: title={'center': \"AIME'24\"}, xlabel='Questions', ylabel='Methods'>)"
      ]
     },
     "execution_count": 68,
     "metadata": {},
     "output_type": "execute_result"
    },
    {
     "data": {
      "text/plain": [
       "<Figure size 1200x200 with 2 Axes>"
      ],
      "image/png": "[encoded data removed]"
     },
     "metadata": {},
     "output_type": "display_data"
    }
   ],
   "execution_count": 68
  },
  {
   "metadata": {
    "ExecuteTime": {
     "end_time": "2025-07-14T20:48:45.327458Z",
     "start_time": "2025-07-14T20:48:45.321306Z"
    }
   },
   "cell_type": "code",
   "source": "sjdf.metric",
   "id": "c6bd10958c50de76",
   "outputs": [
    {
     "data": {
      "text/plain": [
       "0     {'math_pass@1:1_samples': 1.0, 'self_judged_th...\n",
       "1     {'math_pass@1:1_samples': 1.0, 'self_judged_th...\n",
       "2     {'math_pass@1:1_samples': 1.0, 'self_judged_th...\n",
       "3     {'math_pass@1:1_samples': 1.0, 'self_judged_th...\n",
       "4     {'math_pass@1:1_samples': 1.0, 'self_judged_th...\n",
       "5     {'math_pass@1:1_samples': 1.0, 'self_judged_th...\n",
       "6     {'math_pass@1:1_samples': 1.0, 'self_judged_th...\n",
       "7     {'math_pass@1:1_samples': 1.0, 'self_judged_th...\n",
       "8     {'math_pass@1:1_samples': 1.0, 'self_judged_th...\n",
       "9     {'math_pass@1:1_samples': 1.0, 'self_judged_th...\n",
       "10    {'math_pass@1:1_samples': 1.0, 'self_judged_th...\n",
       "11    {'math_pass@1:1_samples': 1.0, 'self_judged_th...\n",
       "12    {'math_pass@1:1_samples': 1.0, 'self_judged_th...\n",
       "13    {'math_pass@1:1_samples': 0.0, 'self_judged_th...\n",
       "14    {'math_pass@1:1_samples': 1.0, 'self_judged_th...\n",
       "15    {'math_pass@1:1_samples': 1.0, 'self_judged_th...\n",
       "16    {'math_pass@1:1_samples': 1.0, 'self_judged_th...\n",
       "17    {'math_pass@1:1_samples': 0.0, 'self_judged_th...\n",
       "18    {'math_pass@1:1_samples': 1.0, 'self_judged_th...\n",
       "19    {'math_pass@1:1_samples': 1.0, 'self_judged_th...\n",
       "20    {'math_pass@1:1_samples': 1.0, 'self_judged_th...\n",
       "21    {'math_pass@1:1_samples': 0.0, 'self_judged_th...\n",
       "22    {'math_pass@1:1_samples': 1.0, 'self_judged_th...\n",
       "23    {'math_pass@1:1_samples': 1.0, 'self_judged_th...\n",
       "24    {'math_pass@1:1_samples': 1.0, 'self_judged_th...\n",
       "25    {'math_pass@1:1_samples': 1.0, 'self_judged_th...\n",
       "26    {'math_pass@1:1_samples': 1.0, 'self_judged_th...\n",
       "27    {'math_pass@1:1_samples': 1.0, 'self_judged_th...\n",
       "28    {'math_pass@1:1_samples': 0.0, 'self_judged_th...\n",
       "29    {'math_pass@1:1_samples': 1.0, 'self_judged_th...\n",
       "Name: metric, dtype: object"
      ]
     },
     "execution_count": 59,
     "metadata": {},
     "output_type": "execute_result"
    }
   ],
   "execution_count": 59
  },
  {
   "metadata": {
    "ExecuteTime": {
     "end_time": "2025-07-14T20:51:29.856600Z",
     "start_time": "2025-07-14T20:51:29.850461Z"
    }
   },
   "cell_type": "code",
   "source": "tdf.metric",
   "id": "1630340d1cfefcf7",
   "outputs": [
    {
     "data": {
      "text/plain": [
       "0     {'math_pass@1:1_samples': 1.0}\n",
       "1     {'math_pass@1:1_samples': 1.0}\n",
       "2     {'math_pass@1:1_samples': 1.0}\n",
       "3     {'math_pass@1:1_samples': 1.0}\n",
       "4     {'math_pass@1:1_samples': 0.0}\n",
       "5     {'math_pass@1:1_samples': 1.0}\n",
       "6     {'math_pass@1:1_samples': 1.0}\n",
       "7     {'math_pass@1:1_samples': 1.0}\n",
       "8     {'math_pass@1:1_samples': 1.0}\n",
       "9     {'math_pass@1:1_samples': 1.0}\n",
       "10    {'math_pass@1:1_samples': 0.0}\n",
       "11    {'math_pass@1:1_samples': 1.0}\n",
       "12    {'math_pass@1:1_samples': 0.0}\n",
       "13    {'math_pass@1:1_samples': 0.0}\n",
       "14    {'math_pass@1:1_samples': 1.0}\n",
       "15    {'math_pass@1:1_samples': 1.0}\n",
       "16    {'math_pass@1:1_samples': 1.0}\n",
       "17    {'math_pass@1:1_samples': 0.0}\n",
       "18    {'math_pass@1:1_samples': 1.0}\n",
       "19    {'math_pass@1:1_samples': 0.0}\n",
       "20    {'math_pass@1:1_samples': 1.0}\n",
       "21    {'math_pass@1:1_samples': 0.0}\n",
       "22    {'math_pass@1:1_samples': 1.0}\n",
       "23    {'math_pass@1:1_samples': 1.0}\n",
       "24    {'math_pass@1:1_samples': 1.0}\n",
       "25    {'math_pass@1:1_samples': 1.0}\n",
       "26    {'math_pass@1:1_samples': 1.0}\n",
       "27    {'math_pass@1:1_samples': 1.0}\n",
       "28    {'math_pass@1:1_samples': 0.0}\n",
       "29    {'math_pass@1:1_samples': 1.0}\n",
       "Name: metric, dtype: object"
      ]
     },
     "execution_count": 66,
     "metadata": {},
     "output_type": "execute_result"
    }
   ],
   "execution_count": 66
  },
  {
   "metadata": {},
   "cell_type": "code",
   "outputs": [],
   "execution_count": null,
   "source": "",
   "id": "a9460d4fe7db2618"
  }
 ],
 "metadata": {
  "kernelspec": {
   "display_name": "Python 3",
   "language": "python",
   "name": "python3"
  },
  "language_info": {
   "codemirror_mode": {
    "name": "ipython",
    "version": 2
   },
   "file_extension": ".py",
   "mimetype": "text/x-python",
   "name": "python",
   "nbconvert_exporter": "python",
   "pygments_lexer": "ipython2",
   "version": "2.7.6"
  }
 },
 "nbformat": 4,
 "nbformat_minor": 5
}
